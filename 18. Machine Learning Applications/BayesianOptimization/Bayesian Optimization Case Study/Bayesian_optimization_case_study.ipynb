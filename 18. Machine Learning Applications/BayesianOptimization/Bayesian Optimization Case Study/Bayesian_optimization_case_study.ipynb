{
 "cells": [
  {
   "cell_type": "markdown",
   "metadata": {
    "colab_type": "text",
    "id": "WNK7vbHo-KYU"
   },
   "source": [
    "## Bayesian methods of hyperparameter optimization"
   ]
  },
  {
   "cell_type": "markdown",
   "metadata": {
    "colab_type": "text",
    "id": "BlFdvPwF-KYW"
   },
   "source": [
    "In addition to the random search and the grid search methods for selecting optimal hyperparameters, we can use Bayesian methods of probabilities to select the optimal hyperparameters for an algorithm.\n",
    "\n",
    "In this case study, we will be using the BayesianOptimization library to perform hyperparmater tuning. This library has very good documentation which you can find here: https://github.com/fmfn/BayesianOptimization\n",
    "\n",
    "You will need to install the Bayesian optimization module. Running a cell with an exclamation point in the beginning of the command will run it as a shell command — please do this to install this module from our notebook in the cell below."
   ]
  },
  {
   "cell_type": "code",
   "execution_count": 1,
   "metadata": {
    "colab": {},
    "colab_type": "code",
    "id": "Pssx080d-Ulf"
   },
   "outputs": [
    {
     "name": "stdout",
     "output_type": "stream",
     "text": [
      "Requirement already satisfied: bayesian-optimization in c:\\users\\mateo\\anaconda3\\lib\\site-packages (1.2.0)\n",
      "Requirement already satisfied: numpy>=1.9.0 in c:\\users\\mateo\\anaconda3\\lib\\site-packages (from bayesian-optimization) (1.18.5)\n",
      "Requirement already satisfied: scikit-learn>=0.18.0 in c:\\users\\mateo\\anaconda3\\lib\\site-packages (from bayesian-optimization) (0.23.1)\n",
      "Requirement already satisfied: scipy>=0.14.0 in c:\\users\\mateo\\anaconda3\\lib\\site-packages (from bayesian-optimization) (1.5.0)\n",
      "Requirement already satisfied: threadpoolctl>=2.0.0 in c:\\users\\mateo\\anaconda3\\lib\\site-packages (from scikit-learn>=0.18.0->bayesian-optimization) (2.1.0)\n",
      "Requirement already satisfied: joblib>=0.11 in c:\\users\\mateo\\anaconda3\\lib\\site-packages (from scikit-learn>=0.18.0->bayesian-optimization) (0.16.0)\n"
     ]
    }
   ],
   "source": [
    "! pip install bayesian-optimization"
   ]
  },
  {
   "cell_type": "code",
   "execution_count": 2,
   "metadata": {},
   "outputs": [
    {
     "name": "stdout",
     "output_type": "stream",
     "text": [
      "Requirement already satisfied: lightgbm in c:\\users\\mateo\\anaconda3\\lib\\site-packages (3.2.0)\n",
      "Requirement already satisfied: wheel in c:\\users\\mateo\\anaconda3\\lib\\site-packages (from lightgbm) (0.34.2)\n",
      "Requirement already satisfied: numpy in c:\\users\\mateo\\anaconda3\\lib\\site-packages (from lightgbm) (1.18.5)\n",
      "Requirement already satisfied: scipy in c:\\users\\mateo\\anaconda3\\lib\\site-packages (from lightgbm) (1.5.0)\n",
      "Requirement already satisfied: scikit-learn!=0.22.0 in c:\\users\\mateo\\anaconda3\\lib\\site-packages (from lightgbm) (0.23.1)\n",
      "Requirement already satisfied: joblib>=0.11 in c:\\users\\mateo\\anaconda3\\lib\\site-packages (from scikit-learn!=0.22.0->lightgbm) (0.16.0)\n",
      "Requirement already satisfied: threadpoolctl>=2.0.0 in c:\\users\\mateo\\anaconda3\\lib\\site-packages (from scikit-learn!=0.22.0->lightgbm) (2.1.0)\n"
     ]
    }
   ],
   "source": [
    "! pip install lightgbm"
   ]
  },
  {
   "cell_type": "code",
   "execution_count": 3,
   "metadata": {},
   "outputs": [
    {
     "name": "stdout",
     "output_type": "stream",
     "text": [
      "Requirement already satisfied: catboost in c:\\users\\mateo\\anaconda3\\lib\\site-packages (0.25.1)\n",
      "Requirement already satisfied: plotly in c:\\users\\mateo\\anaconda3\\lib\\site-packages (from catboost) (4.14.3)\n",
      "Requirement already satisfied: scipy in c:\\users\\mateo\\anaconda3\\lib\\site-packages (from catboost) (1.5.0)\n",
      "Requirement already satisfied: six in c:\\users\\mateo\\anaconda3\\lib\\site-packages (from catboost) (1.15.0)\n",
      "Requirement already satisfied: graphviz in c:\\users\\mateo\\anaconda3\\lib\\site-packages (from catboost) (0.16)\n",
      "Requirement already satisfied: pandas>=0.24.0 in c:\\users\\mateo\\anaconda3\\lib\\site-packages (from catboost) (1.0.5)\n",
      "Requirement already satisfied: matplotlib in c:\\users\\mateo\\anaconda3\\lib\\site-packages (from catboost) (3.2.2)\n",
      "Requirement already satisfied: numpy>=1.16.0 in c:\\users\\mateo\\anaconda3\\lib\\site-packages (from catboost) (1.18.5)\n",
      "Requirement already satisfied: retrying>=1.3.3 in c:\\users\\mateo\\anaconda3\\lib\\site-packages (from plotly->catboost) (1.3.3)\n",
      "Requirement already satisfied: pytz>=2017.2 in c:\\users\\mateo\\anaconda3\\lib\\site-packages (from pandas>=0.24.0->catboost) (2020.1)\n",
      "Requirement already satisfied: python-dateutil>=2.6.1 in c:\\users\\mateo\\anaconda3\\lib\\site-packages (from pandas>=0.24.0->catboost) (2.8.1)\n",
      "Requirement already satisfied: pyparsing!=2.0.4,!=2.1.2,!=2.1.6,>=2.0.1 in c:\\users\\mateo\\anaconda3\\lib\\site-packages (from matplotlib->catboost) (2.4.7)\n",
      "Requirement already satisfied: kiwisolver>=1.0.1 in c:\\users\\mateo\\anaconda3\\lib\\site-packages (from matplotlib->catboost) (1.2.0)\n",
      "Requirement already satisfied: cycler>=0.10 in c:\\users\\mateo\\anaconda3\\lib\\site-packages (from matplotlib->catboost) (0.10.0)\n"
     ]
    }
   ],
   "source": [
    "! pip install catboost"
   ]
  },
  {
   "cell_type": "code",
   "execution_count": 4,
   "metadata": {
    "ExecuteTime": {
     "end_time": "2019-04-22T16:39:09.312682Z",
     "start_time": "2019-04-22T16:39:09.309208Z"
    },
    "_kg_hide-input": true,
    "colab": {},
    "colab_type": "code",
    "id": "l9nfFTyj-KYY"
   },
   "outputs": [],
   "source": [
    "import warnings\n",
    "warnings.filterwarnings('ignore')\n",
    "from sklearn.preprocessing import LabelEncoder\n",
    "import numpy as np\n",
    "import pandas as pd\n",
    "import lightgbm\n",
    "from bayes_opt import BayesianOptimization\n",
    "from catboost import CatBoostClassifier, cv, Pool"
   ]
  },
  {
   "cell_type": "code",
   "execution_count": 5,
   "metadata": {
    "colab": {
     "base_uri": "https://localhost:8080/",
     "height": 85
    },
    "colab_type": "code",
    "id": "D16Dquw1AAK0",
    "outputId": "44167587-f22e-4bf5-a816-e2bcfdc6c4ee"
   },
   "outputs": [
    {
     "data": {
      "text/plain": [
       "['.DS_Store',\n",
       " '.ipynb_checkpoints',\n",
       " 'Bayesian_optimization_case_study.ipynb',\n",
       " 'flight_delays_test.csv.zip',\n",
       " 'flight_delays_train.csv.zip']"
      ]
     },
     "execution_count": 5,
     "metadata": {},
     "output_type": "execute_result"
    }
   ],
   "source": [
    "import os\n",
    "os.listdir()"
   ]
  },
  {
   "cell_type": "markdown",
   "metadata": {
    "ExecuteTime": {
     "end_time": "2019-04-22T14:48:15.929012Z",
     "start_time": "2019-04-22T14:48:15.926574Z"
    },
    "colab_type": "text",
    "id": "AkBt3yds-KYu"
   },
   "source": [
    "## How does Bayesian optimization work?"
   ]
  },
  {
   "cell_type": "markdown",
   "metadata": {
    "colab_type": "text",
    "id": "E1kyBCUs-KYv"
   },
   "source": [
    "Bayesian optimization works by constructing a posterior distribution of functions (Gaussian process) that best describes the function you want to optimize. As the number of observations grows, the posterior distribution improves, and the algorithm becomes more certain of which regions in parameter space are worth exploring and which are not, as seen in the picture below."
   ]
  },
  {
   "cell_type": "markdown",
   "metadata": {
    "colab_type": "text",
    "id": "gAdHF72R-KYw"
   },
   "source": [
    "<img src=\"https://github.com/fmfn/BayesianOptimization/blob/master/examples/bo_example.png?raw=true\" />\n",
    "As you iterate over and over, the algorithm balances its needs of exploration and exploitation while taking into account what it knows about the target function. At each step, a Gaussian Process is fitted to the known samples (points previously explored), and the posterior distribution, combined with an exploration strategy (such as UCB — aka Upper Confidence Bound), or EI (Expected Improvement). This process is used to determine the next point that should be explored (see the gif below).\n",
    "<img src=\"https://github.com/fmfn/BayesianOptimization/raw/master/examples/bayesian_optimization.gif\" />"
   ]
  },
  {
   "cell_type": "markdown",
   "metadata": {
    "colab_type": "text",
    "id": "RTP8KUlLoYzu"
   },
   "source": [
    "## Let's look at a simple example"
   ]
  },
  {
   "cell_type": "markdown",
   "metadata": {
    "colab_type": "text",
    "id": "crpPqKdC-KYx"
   },
   "source": [
    "The first step is to create an optimizer. It uses two items:\n",
    "* function to optimize\n",
    "* bounds of parameters\n",
    "\n",
    "The function is the procedure that counts metrics of our model quality. The important thing is that our optimization will maximize the value on function. Smaller metrics are best. Hint: don't forget to use negative metric values."
   ]
  },
  {
   "cell_type": "markdown",
   "metadata": {
    "colab_type": "text",
    "id": "e09ciF8gpTfr"
   },
   "source": [
    "Here we define our simple function we want to optimize."
   ]
  },
  {
   "cell_type": "code",
   "execution_count": 6,
   "metadata": {
    "colab": {},
    "colab_type": "code",
    "id": "ofwvnfEwo5mG"
   },
   "outputs": [],
   "source": [
    "def simple_func(a, b):\n",
    "    return a + b"
   ]
  },
  {
   "cell_type": "markdown",
   "metadata": {
    "colab_type": "text",
    "id": "XCGsdciCpeI3"
   },
   "source": [
    "Now, we define our bounds of the parameters to optimize, within the Bayesian optimizer."
   ]
  },
  {
   "cell_type": "code",
   "execution_count": 7,
   "metadata": {
    "colab": {},
    "colab_type": "code",
    "id": "4jLYW2qnpOFr"
   },
   "outputs": [],
   "source": [
    "optimizer = BayesianOptimization(\n",
    "    simple_func,\n",
    "    {'a': (1, 3),\n",
    "    'b': (4, 7)})"
   ]
  },
  {
   "cell_type": "markdown",
   "metadata": {
    "colab_type": "text",
    "id": "dg6LdYx8pq2T"
   },
   "source": [
    "These are the main parameters of this function:\n",
    "\n",
    "* **n_iter:** This is how many steps of Bayesian optimization you want to perform. The more steps, the more likely you are to find a good maximum.\n",
    "\n",
    "* **init_points:** This is how many steps of random exploration you want to perform. Random exploration can help by diversifying the exploration space."
   ]
  },
  {
   "cell_type": "markdown",
   "metadata": {
    "colab_type": "text",
    "id": "i-GKMJ1uqMYv"
   },
   "source": [
    "Let's run an example where we use the optimizer to find the best values to maximize the target value for a and b given the inputs of 3 and 2."
   ]
  },
  {
   "cell_type": "code",
   "execution_count": 8,
   "metadata": {
    "colab": {
     "base_uri": "https://localhost:8080/",
     "height": 153
    },
    "colab_type": "code",
    "id": "Oy44Ro7wqNat",
    "outputId": "9cc64d54-b1e6-46d1-dc29-4c0039a1c72d"
   },
   "outputs": [
    {
     "name": "stdout",
     "output_type": "stream",
     "text": [
      "|   iter    |  target   |     a     |     b     |\n",
      "-------------------------------------------------\n",
      "| \u001b[0m 1       \u001b[0m | \u001b[0m 8.781   \u001b[0m | \u001b[0m 2.267   \u001b[0m | \u001b[0m 6.514   \u001b[0m |\n",
      "| \u001b[0m 2       \u001b[0m | \u001b[0m 8.138   \u001b[0m | \u001b[0m 1.656   \u001b[0m | \u001b[0m 6.482   \u001b[0m |\n",
      "| \u001b[0m 3       \u001b[0m | \u001b[0m 5.415   \u001b[0m | \u001b[0m 1.25    \u001b[0m | \u001b[0m 4.165   \u001b[0m |\n",
      "| \u001b[95m 4       \u001b[0m | \u001b[95m 10.0    \u001b[0m | \u001b[95m 3.0     \u001b[0m | \u001b[95m 7.0     \u001b[0m |\n",
      "| \u001b[0m 5       \u001b[0m | \u001b[0m 9.269   \u001b[0m | \u001b[0m 3.0     \u001b[0m | \u001b[0m 6.269   \u001b[0m |\n",
      "=================================================\n"
     ]
    }
   ],
   "source": [
    "optimizer.maximize(3,2)"
   ]
  },
  {
   "cell_type": "markdown",
   "metadata": {
    "colab_type": "text",
    "id": "tyKFMF2Hq2Sx"
   },
   "source": [
    "Great, now let's print the best parameters and the associated maximized target."
   ]
  },
  {
   "cell_type": "code",
   "execution_count": 9,
   "metadata": {
    "colab": {
     "base_uri": "https://localhost:8080/",
     "height": 51
    },
    "colab_type": "code",
    "id": "_H6DixyfscV_",
    "outputId": "fd0c35d7-e30d-4d30-9ab2-12c0fa837971"
   },
   "outputs": [
    {
     "name": "stdout",
     "output_type": "stream",
     "text": [
      "{'a': 3.0, 'b': 7.0}\n"
     ]
    },
    {
     "data": {
      "text/plain": [
       "10.0"
      ]
     },
     "execution_count": 9,
     "metadata": {},
     "output_type": "execute_result"
    }
   ],
   "source": [
    "print(optimizer.max['params']);optimizer.max['target']"
   ]
  },
  {
   "cell_type": "markdown",
   "metadata": {
    "colab_type": "text",
    "id": "tQ1T1V6Mspi4"
   },
   "source": [
    "## Test it on real data using the Light GBM"
   ]
  },
  {
   "cell_type": "markdown",
   "metadata": {
    "colab_type": "text",
    "id": "y_oGwREZkm4h"
   },
   "source": [
    "The dataset we will be working with is the famous flight departures dataset. Our modeling goal will be to predict if a flight departure is going to be delayed by 15 minutes based on the other attributes in our dataset. As part of this modeling exercise, we will use Bayesian hyperparameter optimization to identify the best parameters for our model."
   ]
  },
  {
   "cell_type": "markdown",
   "metadata": {
    "colab_type": "text",
    "id": "abYSagjQANDZ"
   },
   "source": [
    "**<font color='teal'> You can load the zipped csv files just as you would regular csv files using Pandas read_csv. In the next cell load the train and test data into two seperate dataframes. </font>**\n"
   ]
  },
  {
   "cell_type": "code",
   "execution_count": 10,
   "metadata": {
    "colab": {},
    "colab_type": "code",
    "id": "EWKBApVuAeJe"
   },
   "outputs": [],
   "source": [
    "train_df = pd.read_csv('flight_delays_train.csv.zip')\n",
    "test_df = pd.read_csv('flight_delays_test.csv.zip')"
   ]
  },
  {
   "cell_type": "markdown",
   "metadata": {
    "colab_type": "text",
    "id": "OapNcT9Eikis"
   },
   "source": [
    "**<font color='teal'> Print the top five rows of the train dataframe and review the columns in the data. </font>**"
   ]
  },
  {
   "cell_type": "code",
   "execution_count": 11,
   "metadata": {
    "colab": {
     "base_uri": "https://localhost:8080/",
     "height": 204
    },
    "colab_type": "code",
    "id": "__4cXZ8iiYaC",
    "outputId": "8718ad4b-8955-486c-9ae8-1dee6aa6c2fb"
   },
   "outputs": [
    {
     "data": {
      "text/html": [
       "<div>\n",
       "<style scoped>\n",
       "    .dataframe tbody tr th:only-of-type {\n",
       "        vertical-align: middle;\n",
       "    }\n",
       "\n",
       "    .dataframe tbody tr th {\n",
       "        vertical-align: top;\n",
       "    }\n",
       "\n",
       "    .dataframe thead th {\n",
       "        text-align: right;\n",
       "    }\n",
       "</style>\n",
       "<table border=\"1\" class=\"dataframe\">\n",
       "  <thead>\n",
       "    <tr style=\"text-align: right;\">\n",
       "      <th></th>\n",
       "      <th>Month</th>\n",
       "      <th>DayofMonth</th>\n",
       "      <th>DayOfWeek</th>\n",
       "      <th>DepTime</th>\n",
       "      <th>UniqueCarrier</th>\n",
       "      <th>Origin</th>\n",
       "      <th>Dest</th>\n",
       "      <th>Distance</th>\n",
       "      <th>dep_delayed_15min</th>\n",
       "    </tr>\n",
       "  </thead>\n",
       "  <tbody>\n",
       "    <tr>\n",
       "      <th>0</th>\n",
       "      <td>c-8</td>\n",
       "      <td>c-21</td>\n",
       "      <td>c-7</td>\n",
       "      <td>1934</td>\n",
       "      <td>AA</td>\n",
       "      <td>ATL</td>\n",
       "      <td>DFW</td>\n",
       "      <td>732</td>\n",
       "      <td>N</td>\n",
       "    </tr>\n",
       "    <tr>\n",
       "      <th>1</th>\n",
       "      <td>c-4</td>\n",
       "      <td>c-20</td>\n",
       "      <td>c-3</td>\n",
       "      <td>1548</td>\n",
       "      <td>US</td>\n",
       "      <td>PIT</td>\n",
       "      <td>MCO</td>\n",
       "      <td>834</td>\n",
       "      <td>N</td>\n",
       "    </tr>\n",
       "    <tr>\n",
       "      <th>2</th>\n",
       "      <td>c-9</td>\n",
       "      <td>c-2</td>\n",
       "      <td>c-5</td>\n",
       "      <td>1422</td>\n",
       "      <td>XE</td>\n",
       "      <td>RDU</td>\n",
       "      <td>CLE</td>\n",
       "      <td>416</td>\n",
       "      <td>N</td>\n",
       "    </tr>\n",
       "    <tr>\n",
       "      <th>3</th>\n",
       "      <td>c-11</td>\n",
       "      <td>c-25</td>\n",
       "      <td>c-6</td>\n",
       "      <td>1015</td>\n",
       "      <td>OO</td>\n",
       "      <td>DEN</td>\n",
       "      <td>MEM</td>\n",
       "      <td>872</td>\n",
       "      <td>N</td>\n",
       "    </tr>\n",
       "    <tr>\n",
       "      <th>4</th>\n",
       "      <td>c-10</td>\n",
       "      <td>c-7</td>\n",
       "      <td>c-6</td>\n",
       "      <td>1828</td>\n",
       "      <td>WN</td>\n",
       "      <td>MDW</td>\n",
       "      <td>OMA</td>\n",
       "      <td>423</td>\n",
       "      <td>Y</td>\n",
       "    </tr>\n",
       "  </tbody>\n",
       "</table>\n",
       "</div>"
      ],
      "text/plain": [
       "  Month DayofMonth DayOfWeek  DepTime UniqueCarrier Origin Dest  Distance  \\\n",
       "0   c-8       c-21       c-7     1934            AA    ATL  DFW       732   \n",
       "1   c-4       c-20       c-3     1548            US    PIT  MCO       834   \n",
       "2   c-9        c-2       c-5     1422            XE    RDU  CLE       416   \n",
       "3  c-11       c-25       c-6     1015            OO    DEN  MEM       872   \n",
       "4  c-10        c-7       c-6     1828            WN    MDW  OMA       423   \n",
       "\n",
       "  dep_delayed_15min  \n",
       "0                 N  \n",
       "1                 N  \n",
       "2                 N  \n",
       "3                 N  \n",
       "4                 Y  "
      ]
     },
     "execution_count": 11,
     "metadata": {},
     "output_type": "execute_result"
    }
   ],
   "source": [
    "train_df.head()"
   ]
  },
  {
   "cell_type": "markdown",
   "metadata": {
    "colab_type": "text",
    "id": "UxGBsPQhffgd"
   },
   "source": [
    "**<font color='teal'> Use the describe function to review the numeric columns in the train dataframe. </font>**"
   ]
  },
  {
   "cell_type": "code",
   "execution_count": 12,
   "metadata": {
    "colab": {
     "base_uri": "https://localhost:8080/",
     "height": 297
    },
    "colab_type": "code",
    "id": "_bRRKG3DAtae",
    "outputId": "7cfb9975-ec97-422c-abbd-98923a0b7aec"
   },
   "outputs": [
    {
     "data": {
      "text/html": [
       "<div>\n",
       "<style scoped>\n",
       "    .dataframe tbody tr th:only-of-type {\n",
       "        vertical-align: middle;\n",
       "    }\n",
       "\n",
       "    .dataframe tbody tr th {\n",
       "        vertical-align: top;\n",
       "    }\n",
       "\n",
       "    .dataframe thead th {\n",
       "        text-align: right;\n",
       "    }\n",
       "</style>\n",
       "<table border=\"1\" class=\"dataframe\">\n",
       "  <thead>\n",
       "    <tr style=\"text-align: right;\">\n",
       "      <th></th>\n",
       "      <th>DepTime</th>\n",
       "      <th>Distance</th>\n",
       "    </tr>\n",
       "  </thead>\n",
       "  <tbody>\n",
       "    <tr>\n",
       "      <th>count</th>\n",
       "      <td>100000.000000</td>\n",
       "      <td>100000.00000</td>\n",
       "    </tr>\n",
       "    <tr>\n",
       "      <th>mean</th>\n",
       "      <td>1341.523880</td>\n",
       "      <td>729.39716</td>\n",
       "    </tr>\n",
       "    <tr>\n",
       "      <th>std</th>\n",
       "      <td>476.378445</td>\n",
       "      <td>574.61686</td>\n",
       "    </tr>\n",
       "    <tr>\n",
       "      <th>min</th>\n",
       "      <td>1.000000</td>\n",
       "      <td>30.00000</td>\n",
       "    </tr>\n",
       "    <tr>\n",
       "      <th>25%</th>\n",
       "      <td>931.000000</td>\n",
       "      <td>317.00000</td>\n",
       "    </tr>\n",
       "    <tr>\n",
       "      <th>50%</th>\n",
       "      <td>1330.000000</td>\n",
       "      <td>575.00000</td>\n",
       "    </tr>\n",
       "    <tr>\n",
       "      <th>75%</th>\n",
       "      <td>1733.000000</td>\n",
       "      <td>957.00000</td>\n",
       "    </tr>\n",
       "    <tr>\n",
       "      <th>max</th>\n",
       "      <td>2534.000000</td>\n",
       "      <td>4962.00000</td>\n",
       "    </tr>\n",
       "  </tbody>\n",
       "</table>\n",
       "</div>"
      ],
      "text/plain": [
       "             DepTime      Distance\n",
       "count  100000.000000  100000.00000\n",
       "mean     1341.523880     729.39716\n",
       "std       476.378445     574.61686\n",
       "min         1.000000      30.00000\n",
       "25%       931.000000     317.00000\n",
       "50%      1330.000000     575.00000\n",
       "75%      1733.000000     957.00000\n",
       "max      2534.000000    4962.00000"
      ]
     },
     "execution_count": 12,
     "metadata": {},
     "output_type": "execute_result"
    }
   ],
   "source": [
    "train_df.describe()"
   ]
  },
  {
   "cell_type": "markdown",
   "metadata": {
    "colab_type": "text",
    "id": "i6k-_fI5Aiyh"
   },
   "source": [
    "Notice, `DepTime` is the departure time in a numeric representation in 2400 hours. "
   ]
  },
  {
   "cell_type": "markdown",
   "metadata": {
    "colab_type": "text",
    "id": "gtZS4-hrlQah"
   },
   "source": [
    " **<font color='teal'>The response variable is 'dep_delayed_15min' which is a categorical column, so we need to map the Y for yes and N for no values to 1 and 0. Run the code in the next cell to do this.</font>**"
   ]
  },
  {
   "cell_type": "code",
   "execution_count": 13,
   "metadata": {
    "ExecuteTime": {
     "end_time": "2019-04-22T15:38:42.677690Z",
     "start_time": "2019-04-22T15:38:42.481963Z"
    },
    "colab": {},
    "colab_type": "code",
    "id": "yRlOTbnW-KYc"
   },
   "outputs": [],
   "source": [
    "#train_df = train_df[train_df.DepTime <= 2400].copy()\n",
    "y_train = train_df['dep_delayed_15min'].map({'Y': 1, 'N': 0}).values"
   ]
  },
  {
   "cell_type": "markdown",
   "metadata": {
    "colab_type": "text",
    "id": "z3WPkFQO9uo9"
   },
   "source": [
    "## Feature Engineering\n",
    "Use these defined functions to create additional features for the model. Run the cell to add the functions to your workspace."
   ]
  },
  {
   "cell_type": "code",
   "execution_count": 14,
   "metadata": {
    "colab": {},
    "colab_type": "code",
    "id": "cXqsqz5W9t3r"
   },
   "outputs": [],
   "source": [
    "def label_enc(df_column):\n",
    "    df_column = LabelEncoder().fit_transform(df_column)\n",
    "    return df_column\n",
    "\n",
    "def make_harmonic_features_sin(value, period=2400):\n",
    "    value *= 2 * np.pi / period \n",
    "    return np.sin(value)\n",
    "\n",
    "def make_harmonic_features_cos(value, period=2400):\n",
    "    value *= 2 * np.pi / period \n",
    "    return np.cos(value)\n",
    "\n",
    "def feature_eng(df):\n",
    "    df['flight'] = df['Origin']+df['Dest']\n",
    "    df['Month'] = df.Month.map(lambda x: x.split('-')[-1]).astype('int32')\n",
    "    df['DayofMonth'] = df.DayofMonth.map(lambda x: x.split('-')[-1]).astype('uint8')\n",
    "    df['begin_of_month'] = (df['DayofMonth'] < 10).astype('uint8')\n",
    "    df['midddle_of_month'] = ((df['DayofMonth'] >= 10)&(df['DayofMonth'] < 20)).astype('uint8')\n",
    "    df['end_of_month'] = (df['DayofMonth'] >= 20).astype('uint8')\n",
    "    df['DayOfWeek'] = df.DayOfWeek.map(lambda x: x.split('-')[-1]).astype('uint8')\n",
    "    df['hour'] = df.DepTime.map(lambda x: x/100).astype('int32')\n",
    "    df['morning'] = df['hour'].map(lambda x: 1 if (x <= 11)& (x >= 7) else 0).astype('uint8')\n",
    "    df['day'] = df['hour'].map(lambda x: 1 if (x >= 12) & (x <= 18) else 0).astype('uint8')\n",
    "    df['evening'] = df['hour'].map(lambda x: 1 if (x >= 19) & (x <= 23) else 0).astype('uint8')\n",
    "    df['night'] = df['hour'].map(lambda x: 1 if (x >= 0) & (x <= 6) else 0).astype('int32')\n",
    "    df['winter'] = df['Month'].map(lambda x: x in [12, 1, 2]).astype('int32')\n",
    "    df['spring'] = df['Month'].map(lambda x: x in [3, 4, 5]).astype('int32')\n",
    "    df['summer'] = df['Month'].map(lambda x: x in [6, 7, 8]).astype('int32')\n",
    "    df['autumn'] = df['Month'].map(lambda x: x in [9, 10, 11]).astype('int32')\n",
    "    df['holiday'] = (df['DayOfWeek'] >= 5).astype(int) \n",
    "    df['weekday'] = (df['DayOfWeek'] < 5).astype(int)\n",
    "    df['airport_dest_per_month'] = df.groupby(['Dest', 'Month'])['Dest'].transform('count')\n",
    "    df['airport_origin_per_month'] = df.groupby(['Origin', 'Month'])['Origin'].transform('count')\n",
    "    df['airport_dest_count'] = df.groupby(['Dest'])['Dest'].transform('count')\n",
    "    df['airport_origin_count'] = df.groupby(['Origin'])['Origin'].transform('count')\n",
    "    df['carrier_count'] = df.groupby(['UniqueCarrier'])['Dest'].transform('count')\n",
    "    df['carrier_count_per month'] = df.groupby(['UniqueCarrier', 'Month'])['Dest'].transform('count')\n",
    "    df['deptime_cos'] = df['DepTime'].map(make_harmonic_features_cos)\n",
    "    df['deptime_sin'] = df['DepTime'].map(make_harmonic_features_sin)\n",
    "    df['flightUC'] = df['flight']+df['UniqueCarrier']\n",
    "    df['DestUC'] = df['Dest']+df['UniqueCarrier']\n",
    "    df['OriginUC'] = df['Origin']+df['UniqueCarrier']\n",
    "    return df.drop('DepTime', axis=1)"
   ]
  },
  {
   "cell_type": "markdown",
   "metadata": {
    "colab_type": "text",
    "id": "-BYbxXpU-FGE"
   },
   "source": [
    "Concatenate the training and testing dataframes.\n"
   ]
  },
  {
   "cell_type": "code",
   "execution_count": 15,
   "metadata": {
    "colab": {},
    "colab_type": "code",
    "id": "Cj6bfSNw_RAf"
   },
   "outputs": [],
   "source": [
    "full_df = pd.concat([train_df.drop('dep_delayed_15min', axis=1), test_df])\n",
    "full_df = feature_eng(full_df)"
   ]
  },
  {
   "cell_type": "code",
   "execution_count": 16,
   "metadata": {},
   "outputs": [
    {
     "data": {
      "text/html": [
       "<div>\n",
       "<style scoped>\n",
       "    .dataframe tbody tr th:only-of-type {\n",
       "        vertical-align: middle;\n",
       "    }\n",
       "\n",
       "    .dataframe tbody tr th {\n",
       "        vertical-align: top;\n",
       "    }\n",
       "\n",
       "    .dataframe thead th {\n",
       "        text-align: right;\n",
       "    }\n",
       "</style>\n",
       "<table border=\"1\" class=\"dataframe\">\n",
       "  <thead>\n",
       "    <tr style=\"text-align: right;\">\n",
       "      <th></th>\n",
       "      <th>Month</th>\n",
       "      <th>DayofMonth</th>\n",
       "      <th>DayOfWeek</th>\n",
       "      <th>UniqueCarrier</th>\n",
       "      <th>Origin</th>\n",
       "      <th>Dest</th>\n",
       "      <th>Distance</th>\n",
       "      <th>flight</th>\n",
       "      <th>begin_of_month</th>\n",
       "      <th>midddle_of_month</th>\n",
       "      <th>...</th>\n",
       "      <th>airport_origin_per_month</th>\n",
       "      <th>airport_dest_count</th>\n",
       "      <th>airport_origin_count</th>\n",
       "      <th>carrier_count</th>\n",
       "      <th>carrier_count_per month</th>\n",
       "      <th>deptime_cos</th>\n",
       "      <th>deptime_sin</th>\n",
       "      <th>flightUC</th>\n",
       "      <th>DestUC</th>\n",
       "      <th>OriginUC</th>\n",
       "    </tr>\n",
       "  </thead>\n",
       "  <tbody>\n",
       "    <tr>\n",
       "      <th>0</th>\n",
       "      <td>8</td>\n",
       "      <td>21</td>\n",
       "      <td>7</td>\n",
       "      <td>AA</td>\n",
       "      <td>ATL</td>\n",
       "      <td>DFW</td>\n",
       "      <td>732</td>\n",
       "      <td>ATLDFW</td>\n",
       "      <td>0</td>\n",
       "      <td>0</td>\n",
       "      <td>...</td>\n",
       "      <td>1019</td>\n",
       "      <td>8290</td>\n",
       "      <td>11387</td>\n",
       "      <td>18024</td>\n",
       "      <td>1569</td>\n",
       "      <td>0.343660</td>\n",
       "      <td>-0.939094</td>\n",
       "      <td>ATLDFWAA</td>\n",
       "      <td>DFWAA</td>\n",
       "      <td>ATLAA</td>\n",
       "    </tr>\n",
       "    <tr>\n",
       "      <th>1</th>\n",
       "      <td>4</td>\n",
       "      <td>20</td>\n",
       "      <td>3</td>\n",
       "      <td>US</td>\n",
       "      <td>PIT</td>\n",
       "      <td>MCO</td>\n",
       "      <td>834</td>\n",
       "      <td>PITMCO</td>\n",
       "      <td>0</td>\n",
       "      <td>0</td>\n",
       "      <td>...</td>\n",
       "      <td>105</td>\n",
       "      <td>3523</td>\n",
       "      <td>1390</td>\n",
       "      <td>13069</td>\n",
       "      <td>1094</td>\n",
       "      <td>-0.612907</td>\n",
       "      <td>-0.790155</td>\n",
       "      <td>PITMCOUS</td>\n",
       "      <td>MCOUS</td>\n",
       "      <td>PITUS</td>\n",
       "    </tr>\n",
       "    <tr>\n",
       "      <th>2</th>\n",
       "      <td>9</td>\n",
       "      <td>2</td>\n",
       "      <td>5</td>\n",
       "      <td>XE</td>\n",
       "      <td>RDU</td>\n",
       "      <td>CLE</td>\n",
       "      <td>416</td>\n",
       "      <td>RDUCLE</td>\n",
       "      <td>1</td>\n",
       "      <td>0</td>\n",
       "      <td>...</td>\n",
       "      <td>136</td>\n",
       "      <td>2247</td>\n",
       "      <td>1747</td>\n",
       "      <td>11737</td>\n",
       "      <td>977</td>\n",
       "      <td>-0.835807</td>\n",
       "      <td>-0.549023</td>\n",
       "      <td>RDUCLEXE</td>\n",
       "      <td>CLEXE</td>\n",
       "      <td>RDUXE</td>\n",
       "    </tr>\n",
       "    <tr>\n",
       "      <th>3</th>\n",
       "      <td>11</td>\n",
       "      <td>25</td>\n",
       "      <td>6</td>\n",
       "      <td>OO</td>\n",
       "      <td>DEN</td>\n",
       "      <td>MEM</td>\n",
       "      <td>872</td>\n",
       "      <td>DENMEM</td>\n",
       "      <td>0</td>\n",
       "      <td>0</td>\n",
       "      <td>...</td>\n",
       "      <td>514</td>\n",
       "      <td>1785</td>\n",
       "      <td>6222</td>\n",
       "      <td>15343</td>\n",
       "      <td>1242</td>\n",
       "      <td>-0.884988</td>\n",
       "      <td>0.465615</td>\n",
       "      <td>DENMEMOO</td>\n",
       "      <td>MEMOO</td>\n",
       "      <td>DENOO</td>\n",
       "    </tr>\n",
       "    <tr>\n",
       "      <th>4</th>\n",
       "      <td>10</td>\n",
       "      <td>7</td>\n",
       "      <td>6</td>\n",
       "      <td>WN</td>\n",
       "      <td>MDW</td>\n",
       "      <td>OMA</td>\n",
       "      <td>423</td>\n",
       "      <td>MDWOMA</td>\n",
       "      <td>1</td>\n",
       "      <td>0</td>\n",
       "      <td>...</td>\n",
       "      <td>226</td>\n",
       "      <td>687</td>\n",
       "      <td>2571</td>\n",
       "      <td>30958</td>\n",
       "      <td>2674</td>\n",
       "      <td>0.073238</td>\n",
       "      <td>-0.997314</td>\n",
       "      <td>MDWOMAWN</td>\n",
       "      <td>OMAWN</td>\n",
       "      <td>MDWWN</td>\n",
       "    </tr>\n",
       "    <tr>\n",
       "      <th>...</th>\n",
       "      <td>...</td>\n",
       "      <td>...</td>\n",
       "      <td>...</td>\n",
       "      <td>...</td>\n",
       "      <td>...</td>\n",
       "      <td>...</td>\n",
       "      <td>...</td>\n",
       "      <td>...</td>\n",
       "      <td>...</td>\n",
       "      <td>...</td>\n",
       "      <td>...</td>\n",
       "      <td>...</td>\n",
       "      <td>...</td>\n",
       "      <td>...</td>\n",
       "      <td>...</td>\n",
       "      <td>...</td>\n",
       "      <td>...</td>\n",
       "      <td>...</td>\n",
       "      <td>...</td>\n",
       "      <td>...</td>\n",
       "      <td>...</td>\n",
       "    </tr>\n",
       "    <tr>\n",
       "      <th>99995</th>\n",
       "      <td>6</td>\n",
       "      <td>5</td>\n",
       "      <td>2</td>\n",
       "      <td>WN</td>\n",
       "      <td>CRP</td>\n",
       "      <td>HOU</td>\n",
       "      <td>187</td>\n",
       "      <td>CRPHOU</td>\n",
       "      <td>1</td>\n",
       "      <td>0</td>\n",
       "      <td>...</td>\n",
       "      <td>16</td>\n",
       "      <td>1513</td>\n",
       "      <td>224</td>\n",
       "      <td>30958</td>\n",
       "      <td>2558</td>\n",
       "      <td>-0.612907</td>\n",
       "      <td>0.790155</td>\n",
       "      <td>CRPHOUWN</td>\n",
       "      <td>HOUWN</td>\n",
       "      <td>CRPWN</td>\n",
       "    </tr>\n",
       "    <tr>\n",
       "      <th>99996</th>\n",
       "      <td>11</td>\n",
       "      <td>24</td>\n",
       "      <td>6</td>\n",
       "      <td>UA</td>\n",
       "      <td>ORD</td>\n",
       "      <td>LAS</td>\n",
       "      <td>1515</td>\n",
       "      <td>ORDLAS</td>\n",
       "      <td>0</td>\n",
       "      <td>0</td>\n",
       "      <td>...</td>\n",
       "      <td>773</td>\n",
       "      <td>4920</td>\n",
       "      <td>9823</td>\n",
       "      <td>13311</td>\n",
       "      <td>1065</td>\n",
       "      <td>-0.799685</td>\n",
       "      <td>-0.600420</td>\n",
       "      <td>ORDLASUA</td>\n",
       "      <td>LASUA</td>\n",
       "      <td>ORDUA</td>\n",
       "    </tr>\n",
       "    <tr>\n",
       "      <th>99997</th>\n",
       "      <td>1</td>\n",
       "      <td>30</td>\n",
       "      <td>2</td>\n",
       "      <td>OO</td>\n",
       "      <td>ORD</td>\n",
       "      <td>SGF</td>\n",
       "      <td>438</td>\n",
       "      <td>ORDSGF</td>\n",
       "      <td>0</td>\n",
       "      <td>0</td>\n",
       "      <td>...</td>\n",
       "      <td>795</td>\n",
       "      <td>278</td>\n",
       "      <td>9823</td>\n",
       "      <td>15343</td>\n",
       "      <td>1149</td>\n",
       "      <td>-0.690251</td>\n",
       "      <td>-0.723570</td>\n",
       "      <td>ORDSGFOO</td>\n",
       "      <td>SGFOO</td>\n",
       "      <td>ORDOO</td>\n",
       "    </tr>\n",
       "    <tr>\n",
       "      <th>99998</th>\n",
       "      <td>1</td>\n",
       "      <td>5</td>\n",
       "      <td>5</td>\n",
       "      <td>DL</td>\n",
       "      <td>LGA</td>\n",
       "      <td>ATL</td>\n",
       "      <td>761</td>\n",
       "      <td>LGAATL</td>\n",
       "      <td>1</td>\n",
       "      <td>0</td>\n",
       "      <td>...</td>\n",
       "      <td>283</td>\n",
       "      <td>11382</td>\n",
       "      <td>3350</td>\n",
       "      <td>14624</td>\n",
       "      <td>1291</td>\n",
       "      <td>-0.509041</td>\n",
       "      <td>0.860742</td>\n",
       "      <td>LGAATLDL</td>\n",
       "      <td>ATLDL</td>\n",
       "      <td>LGADL</td>\n",
       "    </tr>\n",
       "    <tr>\n",
       "      <th>99999</th>\n",
       "      <td>10</td>\n",
       "      <td>29</td>\n",
       "      <td>1</td>\n",
       "      <td>OO</td>\n",
       "      <td>MKE</td>\n",
       "      <td>MSP</td>\n",
       "      <td>297</td>\n",
       "      <td>MKEMSP</td>\n",
       "      <td>0</td>\n",
       "      <td>0</td>\n",
       "      <td>...</td>\n",
       "      <td>73</td>\n",
       "      <td>3947</td>\n",
       "      <td>717</td>\n",
       "      <td>15343</td>\n",
       "      <td>1372</td>\n",
       "      <td>-0.575005</td>\n",
       "      <td>0.818150</td>\n",
       "      <td>MKEMSPOO</td>\n",
       "      <td>MSPOO</td>\n",
       "      <td>MKEOO</td>\n",
       "    </tr>\n",
       "  </tbody>\n",
       "</table>\n",
       "<p>200000 rows × 33 columns</p>\n",
       "</div>"
      ],
      "text/plain": [
       "       Month  DayofMonth  DayOfWeek UniqueCarrier Origin Dest  Distance  \\\n",
       "0          8          21          7            AA    ATL  DFW       732   \n",
       "1          4          20          3            US    PIT  MCO       834   \n",
       "2          9           2          5            XE    RDU  CLE       416   \n",
       "3         11          25          6            OO    DEN  MEM       872   \n",
       "4         10           7          6            WN    MDW  OMA       423   \n",
       "...      ...         ...        ...           ...    ...  ...       ...   \n",
       "99995      6           5          2            WN    CRP  HOU       187   \n",
       "99996     11          24          6            UA    ORD  LAS      1515   \n",
       "99997      1          30          2            OO    ORD  SGF       438   \n",
       "99998      1           5          5            DL    LGA  ATL       761   \n",
       "99999     10          29          1            OO    MKE  MSP       297   \n",
       "\n",
       "       flight  begin_of_month  midddle_of_month  ...  \\\n",
       "0      ATLDFW               0                 0  ...   \n",
       "1      PITMCO               0                 0  ...   \n",
       "2      RDUCLE               1                 0  ...   \n",
       "3      DENMEM               0                 0  ...   \n",
       "4      MDWOMA               1                 0  ...   \n",
       "...       ...             ...               ...  ...   \n",
       "99995  CRPHOU               1                 0  ...   \n",
       "99996  ORDLAS               0                 0  ...   \n",
       "99997  ORDSGF               0                 0  ...   \n",
       "99998  LGAATL               1                 0  ...   \n",
       "99999  MKEMSP               0                 0  ...   \n",
       "\n",
       "       airport_origin_per_month  airport_dest_count  airport_origin_count  \\\n",
       "0                          1019                8290                 11387   \n",
       "1                           105                3523                  1390   \n",
       "2                           136                2247                  1747   \n",
       "3                           514                1785                  6222   \n",
       "4                           226                 687                  2571   \n",
       "...                         ...                 ...                   ...   \n",
       "99995                        16                1513                   224   \n",
       "99996                       773                4920                  9823   \n",
       "99997                       795                 278                  9823   \n",
       "99998                       283               11382                  3350   \n",
       "99999                        73                3947                   717   \n",
       "\n",
       "       carrier_count  carrier_count_per month  deptime_cos  deptime_sin  \\\n",
       "0              18024                     1569     0.343660    -0.939094   \n",
       "1              13069                     1094    -0.612907    -0.790155   \n",
       "2              11737                      977    -0.835807    -0.549023   \n",
       "3              15343                     1242    -0.884988     0.465615   \n",
       "4              30958                     2674     0.073238    -0.997314   \n",
       "...              ...                      ...          ...          ...   \n",
       "99995          30958                     2558    -0.612907     0.790155   \n",
       "99996          13311                     1065    -0.799685    -0.600420   \n",
       "99997          15343                     1149    -0.690251    -0.723570   \n",
       "99998          14624                     1291    -0.509041     0.860742   \n",
       "99999          15343                     1372    -0.575005     0.818150   \n",
       "\n",
       "       flightUC  DestUC  OriginUC  \n",
       "0      ATLDFWAA   DFWAA     ATLAA  \n",
       "1      PITMCOUS   MCOUS     PITUS  \n",
       "2      RDUCLEXE   CLEXE     RDUXE  \n",
       "3      DENMEMOO   MEMOO     DENOO  \n",
       "4      MDWOMAWN   OMAWN     MDWWN  \n",
       "...         ...     ...       ...  \n",
       "99995  CRPHOUWN   HOUWN     CRPWN  \n",
       "99996  ORDLASUA   LASUA     ORDUA  \n",
       "99997  ORDSGFOO   SGFOO     ORDOO  \n",
       "99998  LGAATLDL   ATLDL     LGADL  \n",
       "99999  MKEMSPOO   MSPOO     MKEOO  \n",
       "\n",
       "[200000 rows x 33 columns]"
      ]
     },
     "execution_count": 16,
     "metadata": {},
     "output_type": "execute_result"
    }
   ],
   "source": [
    "full_df"
   ]
  },
  {
   "cell_type": "markdown",
   "metadata": {
    "colab_type": "text",
    "id": "GSO8JbfM_W-F"
   },
   "source": [
    "Apply the earlier defined feature engineering functions to the full dataframe."
   ]
  },
  {
   "cell_type": "code",
   "execution_count": 17,
   "metadata": {
    "colab": {},
    "colab_type": "code",
    "id": "x6RfAINftjwi"
   },
   "outputs": [],
   "source": [
    "for column in ['UniqueCarrier', 'Origin', 'Dest','flight',  'flightUC', 'DestUC', 'OriginUC']:\n",
    "    full_df[column] = label_enc(full_df[column])"
   ]
  },
  {
   "cell_type": "code",
   "execution_count": 18,
   "metadata": {},
   "outputs": [
    {
     "data": {
      "text/html": [
       "<div>\n",
       "<style scoped>\n",
       "    .dataframe tbody tr th:only-of-type {\n",
       "        vertical-align: middle;\n",
       "    }\n",
       "\n",
       "    .dataframe tbody tr th {\n",
       "        vertical-align: top;\n",
       "    }\n",
       "\n",
       "    .dataframe thead th {\n",
       "        text-align: right;\n",
       "    }\n",
       "</style>\n",
       "<table border=\"1\" class=\"dataframe\">\n",
       "  <thead>\n",
       "    <tr style=\"text-align: right;\">\n",
       "      <th></th>\n",
       "      <th>Month</th>\n",
       "      <th>DayofMonth</th>\n",
       "      <th>DayOfWeek</th>\n",
       "      <th>UniqueCarrier</th>\n",
       "      <th>Origin</th>\n",
       "      <th>Dest</th>\n",
       "      <th>Distance</th>\n",
       "      <th>flight</th>\n",
       "      <th>begin_of_month</th>\n",
       "      <th>midddle_of_month</th>\n",
       "      <th>...</th>\n",
       "      <th>airport_origin_per_month</th>\n",
       "      <th>airport_dest_count</th>\n",
       "      <th>airport_origin_count</th>\n",
       "      <th>carrier_count</th>\n",
       "      <th>carrier_count_per month</th>\n",
       "      <th>deptime_cos</th>\n",
       "      <th>deptime_sin</th>\n",
       "      <th>flightUC</th>\n",
       "      <th>DestUC</th>\n",
       "      <th>OriginUC</th>\n",
       "    </tr>\n",
       "  </thead>\n",
       "  <tbody>\n",
       "    <tr>\n",
       "      <th>0</th>\n",
       "      <td>8</td>\n",
       "      <td>21</td>\n",
       "      <td>7</td>\n",
       "      <td>1</td>\n",
       "      <td>19</td>\n",
       "      <td>82</td>\n",
       "      <td>732</td>\n",
       "      <td>171</td>\n",
       "      <td>0</td>\n",
       "      <td>0</td>\n",
       "      <td>...</td>\n",
       "      <td>1019</td>\n",
       "      <td>8290</td>\n",
       "      <td>11387</td>\n",
       "      <td>18024</td>\n",
       "      <td>1569</td>\n",
       "      <td>0.343660</td>\n",
       "      <td>-0.939094</td>\n",
       "      <td>265</td>\n",
       "      <td>494</td>\n",
       "      <td>67</td>\n",
       "    </tr>\n",
       "    <tr>\n",
       "      <th>1</th>\n",
       "      <td>4</td>\n",
       "      <td>20</td>\n",
       "      <td>3</td>\n",
       "      <td>19</td>\n",
       "      <td>226</td>\n",
       "      <td>180</td>\n",
       "      <td>834</td>\n",
       "      <td>3986</td>\n",
       "      <td>0</td>\n",
       "      <td>0</td>\n",
       "      <td>...</td>\n",
       "      <td>105</td>\n",
       "      <td>3523</td>\n",
       "      <td>1390</td>\n",
       "      <td>13069</td>\n",
       "      <td>1094</td>\n",
       "      <td>-0.612907</td>\n",
       "      <td>-0.790155</td>\n",
       "      <td>6907</td>\n",
       "      <td>1085</td>\n",
       "      <td>1441</td>\n",
       "    </tr>\n",
       "    <tr>\n",
       "      <th>2</th>\n",
       "      <td>9</td>\n",
       "      <td>2</td>\n",
       "      <td>5</td>\n",
       "      <td>21</td>\n",
       "      <td>239</td>\n",
       "      <td>62</td>\n",
       "      <td>416</td>\n",
       "      <td>4091</td>\n",
       "      <td>1</td>\n",
       "      <td>0</td>\n",
       "      <td>...</td>\n",
       "      <td>136</td>\n",
       "      <td>2247</td>\n",
       "      <td>1747</td>\n",
       "      <td>11737</td>\n",
       "      <td>977</td>\n",
       "      <td>-0.835807</td>\n",
       "      <td>-0.549023</td>\n",
       "      <td>7064</td>\n",
       "      <td>359</td>\n",
       "      <td>1518</td>\n",
       "    </tr>\n",
       "    <tr>\n",
       "      <th>3</th>\n",
       "      <td>11</td>\n",
       "      <td>25</td>\n",
       "      <td>6</td>\n",
       "      <td>16</td>\n",
       "      <td>81</td>\n",
       "      <td>184</td>\n",
       "      <td>872</td>\n",
       "      <td>1304</td>\n",
       "      <td>0</td>\n",
       "      <td>0</td>\n",
       "      <td>...</td>\n",
       "      <td>514</td>\n",
       "      <td>1785</td>\n",
       "      <td>6222</td>\n",
       "      <td>15343</td>\n",
       "      <td>1242</td>\n",
       "      <td>-0.884988</td>\n",
       "      <td>0.465615</td>\n",
       "      <td>2258</td>\n",
       "      <td>1122</td>\n",
       "      <td>484</td>\n",
       "    </tr>\n",
       "    <tr>\n",
       "      <th>4</th>\n",
       "      <td>10</td>\n",
       "      <td>7</td>\n",
       "      <td>6</td>\n",
       "      <td>20</td>\n",
       "      <td>182</td>\n",
       "      <td>210</td>\n",
       "      <td>423</td>\n",
       "      <td>2979</td>\n",
       "      <td>1</td>\n",
       "      <td>0</td>\n",
       "      <td>...</td>\n",
       "      <td>226</td>\n",
       "      <td>687</td>\n",
       "      <td>2571</td>\n",
       "      <td>30958</td>\n",
       "      <td>2674</td>\n",
       "      <td>0.073238</td>\n",
       "      <td>-0.997314</td>\n",
       "      <td>5144</td>\n",
       "      <td>1313</td>\n",
       "      <td>1103</td>\n",
       "    </tr>\n",
       "    <tr>\n",
       "      <th>...</th>\n",
       "      <td>...</td>\n",
       "      <td>...</td>\n",
       "      <td>...</td>\n",
       "      <td>...</td>\n",
       "      <td>...</td>\n",
       "      <td>...</td>\n",
       "      <td>...</td>\n",
       "      <td>...</td>\n",
       "      <td>...</td>\n",
       "      <td>...</td>\n",
       "      <td>...</td>\n",
       "      <td>...</td>\n",
       "      <td>...</td>\n",
       "      <td>...</td>\n",
       "      <td>...</td>\n",
       "      <td>...</td>\n",
       "      <td>...</td>\n",
       "      <td>...</td>\n",
       "      <td>...</td>\n",
       "      <td>...</td>\n",
       "      <td>...</td>\n",
       "    </tr>\n",
       "    <tr>\n",
       "      <th>99995</th>\n",
       "      <td>6</td>\n",
       "      <td>5</td>\n",
       "      <td>2</td>\n",
       "      <td>20</td>\n",
       "      <td>71</td>\n",
       "      <td>132</td>\n",
       "      <td>187</td>\n",
       "      <td>1002</td>\n",
       "      <td>1</td>\n",
       "      <td>0</td>\n",
       "      <td>...</td>\n",
       "      <td>16</td>\n",
       "      <td>1513</td>\n",
       "      <td>224</td>\n",
       "      <td>30958</td>\n",
       "      <td>2558</td>\n",
       "      <td>-0.612907</td>\n",
       "      <td>0.790155</td>\n",
       "      <td>1680</td>\n",
       "      <td>766</td>\n",
       "      <td>413</td>\n",
       "    </tr>\n",
       "    <tr>\n",
       "      <th>99996</th>\n",
       "      <td>11</td>\n",
       "      <td>24</td>\n",
       "      <td>6</td>\n",
       "      <td>18</td>\n",
       "      <td>213</td>\n",
       "      <td>159</td>\n",
       "      <td>1515</td>\n",
       "      <td>3635</td>\n",
       "      <td>0</td>\n",
       "      <td>0</td>\n",
       "      <td>...</td>\n",
       "      <td>773</td>\n",
       "      <td>4920</td>\n",
       "      <td>9823</td>\n",
       "      <td>13311</td>\n",
       "      <td>1065</td>\n",
       "      <td>-0.799685</td>\n",
       "      <td>-0.600420</td>\n",
       "      <td>6205</td>\n",
       "      <td>955</td>\n",
       "      <td>1331</td>\n",
       "    </tr>\n",
       "    <tr>\n",
       "      <th>99997</th>\n",
       "      <td>1</td>\n",
       "      <td>30</td>\n",
       "      <td>2</td>\n",
       "      <td>16</td>\n",
       "      <td>213</td>\n",
       "      <td>260</td>\n",
       "      <td>438</td>\n",
       "      <td>3689</td>\n",
       "      <td>0</td>\n",
       "      <td>0</td>\n",
       "      <td>...</td>\n",
       "      <td>795</td>\n",
       "      <td>278</td>\n",
       "      <td>9823</td>\n",
       "      <td>15343</td>\n",
       "      <td>1149</td>\n",
       "      <td>-0.690251</td>\n",
       "      <td>-0.723570</td>\n",
       "      <td>6331</td>\n",
       "      <td>1719</td>\n",
       "      <td>1330</td>\n",
       "    </tr>\n",
       "    <tr>\n",
       "      <th>99998</th>\n",
       "      <td>1</td>\n",
       "      <td>5</td>\n",
       "      <td>5</td>\n",
       "      <td>7</td>\n",
       "      <td>166</td>\n",
       "      <td>19</td>\n",
       "      <td>761</td>\n",
       "      <td>2685</td>\n",
       "      <td>1</td>\n",
       "      <td>0</td>\n",
       "      <td>...</td>\n",
       "      <td>283</td>\n",
       "      <td>11382</td>\n",
       "      <td>3350</td>\n",
       "      <td>14624</td>\n",
       "      <td>1291</td>\n",
       "      <td>-0.509041</td>\n",
       "      <td>0.860742</td>\n",
       "      <td>4650</td>\n",
       "      <td>71</td>\n",
       "      <td>994</td>\n",
       "    </tr>\n",
       "    <tr>\n",
       "      <th>99999</th>\n",
       "      <td>10</td>\n",
       "      <td>29</td>\n",
       "      <td>1</td>\n",
       "      <td>16</td>\n",
       "      <td>190</td>\n",
       "      <td>201</td>\n",
       "      <td>297</td>\n",
       "      <td>3183</td>\n",
       "      <td>0</td>\n",
       "      <td>0</td>\n",
       "      <td>...</td>\n",
       "      <td>73</td>\n",
       "      <td>3947</td>\n",
       "      <td>717</td>\n",
       "      <td>15343</td>\n",
       "      <td>1372</td>\n",
       "      <td>-0.575005</td>\n",
       "      <td>0.818150</td>\n",
       "      <td>5456</td>\n",
       "      <td>1221</td>\n",
       "      <td>1161</td>\n",
       "    </tr>\n",
       "  </tbody>\n",
       "</table>\n",
       "<p>200000 rows × 33 columns</p>\n",
       "</div>"
      ],
      "text/plain": [
       "       Month  DayofMonth  DayOfWeek  UniqueCarrier  Origin  Dest  Distance  \\\n",
       "0          8          21          7              1      19    82       732   \n",
       "1          4          20          3             19     226   180       834   \n",
       "2          9           2          5             21     239    62       416   \n",
       "3         11          25          6             16      81   184       872   \n",
       "4         10           7          6             20     182   210       423   \n",
       "...      ...         ...        ...            ...     ...   ...       ...   \n",
       "99995      6           5          2             20      71   132       187   \n",
       "99996     11          24          6             18     213   159      1515   \n",
       "99997      1          30          2             16     213   260       438   \n",
       "99998      1           5          5              7     166    19       761   \n",
       "99999     10          29          1             16     190   201       297   \n",
       "\n",
       "       flight  begin_of_month  midddle_of_month  ...  \\\n",
       "0         171               0                 0  ...   \n",
       "1        3986               0                 0  ...   \n",
       "2        4091               1                 0  ...   \n",
       "3        1304               0                 0  ...   \n",
       "4        2979               1                 0  ...   \n",
       "...       ...             ...               ...  ...   \n",
       "99995    1002               1                 0  ...   \n",
       "99996    3635               0                 0  ...   \n",
       "99997    3689               0                 0  ...   \n",
       "99998    2685               1                 0  ...   \n",
       "99999    3183               0                 0  ...   \n",
       "\n",
       "       airport_origin_per_month  airport_dest_count  airport_origin_count  \\\n",
       "0                          1019                8290                 11387   \n",
       "1                           105                3523                  1390   \n",
       "2                           136                2247                  1747   \n",
       "3                           514                1785                  6222   \n",
       "4                           226                 687                  2571   \n",
       "...                         ...                 ...                   ...   \n",
       "99995                        16                1513                   224   \n",
       "99996                       773                4920                  9823   \n",
       "99997                       795                 278                  9823   \n",
       "99998                       283               11382                  3350   \n",
       "99999                        73                3947                   717   \n",
       "\n",
       "       carrier_count  carrier_count_per month  deptime_cos  deptime_sin  \\\n",
       "0              18024                     1569     0.343660    -0.939094   \n",
       "1              13069                     1094    -0.612907    -0.790155   \n",
       "2              11737                      977    -0.835807    -0.549023   \n",
       "3              15343                     1242    -0.884988     0.465615   \n",
       "4              30958                     2674     0.073238    -0.997314   \n",
       "...              ...                      ...          ...          ...   \n",
       "99995          30958                     2558    -0.612907     0.790155   \n",
       "99996          13311                     1065    -0.799685    -0.600420   \n",
       "99997          15343                     1149    -0.690251    -0.723570   \n",
       "99998          14624                     1291    -0.509041     0.860742   \n",
       "99999          15343                     1372    -0.575005     0.818150   \n",
       "\n",
       "       flightUC  DestUC  OriginUC  \n",
       "0           265     494        67  \n",
       "1          6907    1085      1441  \n",
       "2          7064     359      1518  \n",
       "3          2258    1122       484  \n",
       "4          5144    1313      1103  \n",
       "...         ...     ...       ...  \n",
       "99995      1680     766       413  \n",
       "99996      6205     955      1331  \n",
       "99997      6331    1719      1330  \n",
       "99998      4650      71       994  \n",
       "99999      5456    1221      1161  \n",
       "\n",
       "[200000 rows x 33 columns]"
      ]
     },
     "execution_count": 18,
     "metadata": {},
     "output_type": "execute_result"
    }
   ],
   "source": [
    "full_df"
   ]
  },
  {
   "cell_type": "markdown",
   "metadata": {
    "colab_type": "text",
    "id": "IJAw1RGB_ZuM"
   },
   "source": [
    "\n",
    "Split the new full dataframe into X_train and X_test. "
   ]
  },
  {
   "cell_type": "code",
   "execution_count": 19,
   "metadata": {
    "colab": {},
    "colab_type": "code",
    "id": "15cPtQU5tjfz"
   },
   "outputs": [],
   "source": [
    "X_train = full_df[:train_df.shape[0]]\n",
    "X_test = full_df[train_df.shape[0]:]"
   ]
  },
  {
   "cell_type": "markdown",
   "metadata": {
    "colab_type": "text",
    "id": "umfAw-9JErLV"
   },
   "source": [
    "Create a list of the categorical features."
   ]
  },
  {
   "cell_type": "code",
   "execution_count": 20,
   "metadata": {
    "ExecuteTime": {
     "end_time": "2019-04-22T14:31:58.412296Z",
     "start_time": "2019-04-22T14:31:58.409088Z"
    },
    "colab": {},
    "colab_type": "code",
    "id": "5ibeVyNb-KZI"
   },
   "outputs": [],
   "source": [
    "categorical_features = ['Month',  'DayOfWeek', 'UniqueCarrier', 'Origin', 'Dest','flight',  'flightUC', 'DestUC', 'OriginUC']"
   ]
  },
  {
   "cell_type": "markdown",
   "metadata": {
    "colab_type": "text",
    "id": "NzMIsMPIETVk"
   },
   "source": [
    "Let's build a light GBM model to test the bayesian optimizer."
   ]
  },
  {
   "cell_type": "markdown",
   "metadata": {
    "ExecuteTime": {
     "end_time": "2019-04-22T15:18:04.466965Z",
     "start_time": "2019-04-22T15:18:04.457992Z"
    },
    "colab_type": "text",
    "id": "2hfm1i5G-KZH"
   },
   "source": [
    "### [LightGBM](https://lightgbm.readthedocs.io/en/latest/) is a gradient boosting framework that uses tree-based learning algorithms. It is designed to be distributed and efficient with the following advantages:\n",
    "\n",
    "* Faster training speed and higher efficiency.\n",
    "* Lower memory usage.\n",
    "* Better accuracy.\n",
    "* Support of parallel and GPU learning.\n",
    "* Capable of handling large-scale data."
   ]
  },
  {
   "cell_type": "markdown",
   "metadata": {
    "colab_type": "text",
    "id": "jf-3F2Wg-KZL"
   },
   "source": [
    "First, we define the function we want to maximize and that will count cross-validation metrics of lightGBM for our parameters.\n",
    "\n",
    "Some params such as num_leaves, max_depth, min_child_samples, min_data_in_leaf should be integers."
   ]
  },
  {
   "cell_type": "code",
   "execution_count": 21,
   "metadata": {
    "ExecuteTime": {
     "end_time": "2019-04-22T15:40:14.034265Z",
     "start_time": "2019-04-22T15:40:14.027868Z"
    },
    "colab": {},
    "colab_type": "code",
    "id": "LyUJBhGX-KZM"
   },
   "outputs": [],
   "source": [
    "def lgb_eval(num_leaves,max_depth,lambda_l2,lambda_l1,min_child_samples, min_data_in_leaf):\n",
    "    params = {\n",
    "        \"objective\" : \"binary\",\n",
    "        \"metric\" : \"auc\", \n",
    "        'is_unbalance': True,\n",
    "        \"num_leaves\" : int(num_leaves),\n",
    "        \"max_depth\" : int(max_depth),\n",
    "        \"lambda_l2\" : lambda_l2,\n",
    "        \"lambda_l1\" : lambda_l1,\n",
    "        \"num_threads\" : 20,\n",
    "        \"min_child_samples\" : int(min_child_samples),\n",
    "        'min_data_in_leaf': int(min_data_in_leaf),\n",
    "        \"learning_rate\" : 0.03,\n",
    "        \"subsample_freq\" : 5,\n",
    "        \"bagging_seed\" : 42,\n",
    "        \"verbosity\" : -1\n",
    "    }\n",
    "    lgtrain = lightgbm.Dataset(X_train, y_train,categorical_feature=categorical_features)\n",
    "    cv_result = lightgbm.cv(params,\n",
    "                       lgtrain,\n",
    "                       1000,\n",
    "                       early_stopping_rounds=100,\n",
    "                       stratified=True,\n",
    "                       nfold=3)\n",
    "    return cv_result['auc-mean'][-1]"
   ]
  },
  {
   "cell_type": "markdown",
   "metadata": {
    "colab_type": "text",
    "id": "FJwqBhdeF11Q"
   },
   "source": [
    "Apply the Bayesian optimizer to the function we created in the previous step to identify the best hyperparameters. We will run 10 iterations and set init_points = 2.\n"
   ]
  },
  {
   "cell_type": "code",
   "execution_count": 22,
   "metadata": {
    "ExecuteTime": {
     "end_time": "2019-04-22T15:48:04.682447Z",
     "start_time": "2019-04-22T15:40:14.641634Z"
    },
    "colab": {
     "base_uri": "https://localhost:8080/",
     "height": 51
    },
    "colab_type": "code",
    "id": "JheCOkUE-KZP",
    "outputId": "8f37ee51-885d-44e4-cdcd-ceb7abd58b61"
   },
   "outputs": [
    {
     "name": "stdout",
     "output_type": "stream",
     "text": [
      "|   iter    |  target   | lambda_l1 | lambda_l2 | max_depth | min_ch... | min_da... | num_le... |\n",
      "-------------------------------------------------------------------------------------------------\n",
      "[LightGBM] [Warning] min_data_in_leaf is set=624, min_child_samples=1846 will be ignored. Current value: min_data_in_leaf=624\n",
      "| \u001b[0m 1       \u001b[0m | \u001b[0m 0.725   \u001b[0m | \u001b[0m 0.01278 \u001b[0m | \u001b[0m 0.03862 \u001b[0m | \u001b[0m 48.31   \u001b[0m | \u001b[0m 1.846e+0\u001b[0m | \u001b[0m 624.1   \u001b[0m | \u001b[0m 3.73e+03\u001b[0m |\n",
      "| \u001b[95m 2       \u001b[0m | \u001b[95m 0.7436  \u001b[0m | \u001b[95m 0.02871 \u001b[0m | \u001b[95m 0.04214 \u001b[0m | \u001b[95m 16.44   \u001b[0m | \u001b[95m 9.289e+0\u001b[0m | \u001b[95m 1.992e+0\u001b[0m | \u001b[95m 2.828e+0\u001b[0m |\n",
      "| \u001b[0m 3       \u001b[0m | \u001b[0m 0.7195  \u001b[0m | \u001b[0m 0.02452 \u001b[0m | \u001b[0m 0.000145\u001b[0m | \u001b[0m 43.81   \u001b[0m | \u001b[0m 3.28e+03\u001b[0m | \u001b[0m 472.8   \u001b[0m | \u001b[0m 3.117e+0\u001b[0m |\n",
      "| \u001b[0m 4       \u001b[0m | \u001b[0m 0.7298  \u001b[0m | \u001b[0m 0.04549 \u001b[0m | \u001b[0m 0.04431 \u001b[0m | \u001b[0m 14.7    \u001b[0m | \u001b[0m 1.197e+0\u001b[0m | \u001b[0m 915.9   \u001b[0m | \u001b[0m 867.0   \u001b[0m |\n",
      "| \u001b[0m 5       \u001b[0m | \u001b[0m 0.7432  \u001b[0m | \u001b[0m 0.02846 \u001b[0m | \u001b[0m 0.02475 \u001b[0m | \u001b[0m 33.26   \u001b[0m | \u001b[0m 2.994e+0\u001b[0m | \u001b[0m 1.352e+0\u001b[0m | \u001b[0m 3.461e+0\u001b[0m |\n",
      "| \u001b[0m 6       \u001b[0m | \u001b[0m 0.7253  \u001b[0m | \u001b[0m 0.04247 \u001b[0m | \u001b[0m 0.02024 \u001b[0m | \u001b[0m 42.43   \u001b[0m | \u001b[0m 9.285e+0\u001b[0m | \u001b[0m 673.3   \u001b[0m | \u001b[0m 3.708e+0\u001b[0m |\n",
      "| \u001b[0m 7       \u001b[0m | \u001b[0m 0.7357  \u001b[0m | \u001b[0m 0.04032 \u001b[0m | \u001b[0m 0.02935 \u001b[0m | \u001b[0m 41.39   \u001b[0m | \u001b[0m 9.789e+0\u001b[0m | \u001b[0m 1.026e+0\u001b[0m | \u001b[0m 166.7   \u001b[0m |\n",
      "| \u001b[0m 8       \u001b[0m | \u001b[0m 0.7431  \u001b[0m | \u001b[0m 0.003504\u001b[0m | \u001b[0m 0.03918 \u001b[0m | \u001b[0m 50.88   \u001b[0m | \u001b[0m 3.653e+0\u001b[0m | \u001b[0m 1.483e+0\u001b[0m | \u001b[0m 1.382e+0\u001b[0m |\n",
      "| \u001b[0m 9       \u001b[0m | \u001b[0m 0.7288  \u001b[0m | \u001b[0m 0.02263 \u001b[0m | \u001b[0m 0.01418 \u001b[0m | \u001b[0m 39.94   \u001b[0m | \u001b[0m 5.374e+0\u001b[0m | \u001b[0m 905.6   \u001b[0m | \u001b[0m 1.473e+0\u001b[0m |\n",
      "| \u001b[0m 10      \u001b[0m | \u001b[0m 0.726   \u001b[0m | \u001b[0m 0.0241  \u001b[0m | \u001b[0m 0.007651\u001b[0m | \u001b[0m 7.602   \u001b[0m | \u001b[0m 2.998e+0\u001b[0m | \u001b[0m 554.3   \u001b[0m | \u001b[0m 2.845e+0\u001b[0m |\n",
      "| \u001b[95m 11      \u001b[0m | \u001b[95m 0.7441  \u001b[0m | \u001b[95m 0.03849 \u001b[0m | \u001b[95m 0.009864\u001b[0m | \u001b[95m 46.81   \u001b[0m | \u001b[95m 9.23e+03\u001b[0m | \u001b[95m 1.964e+0\u001b[0m | \u001b[95m 2.904e+0\u001b[0m |\n",
      "| \u001b[0m 12      \u001b[0m | \u001b[0m 0.7437  \u001b[0m | \u001b[0m 0.04679 \u001b[0m | \u001b[0m 0.000720\u001b[0m | \u001b[0m 17.33   \u001b[0m | \u001b[0m 2.83e+03\u001b[0m | \u001b[0m 1.935e+0\u001b[0m | \u001b[0m 3.515e+0\u001b[0m |\n",
      "=================================================================================================\n"
     ]
    }
   ],
   "source": [
    "lgbBO = BayesianOptimization(lgb_eval, {'num_leaves': (25, 4000),\n",
    "                                                'max_depth': (5, 63),\n",
    "                                                'lambda_l2': (0.0, 0.05),\n",
    "                                                'lambda_l1': (0.0, 0.05),\n",
    "                                                'min_child_samples': (50, 10000),\n",
    "                                                'min_data_in_leaf': (100, 2000)\n",
    "                                                })\n",
    "\n",
    "lgbBO.maximize(n_iter=10, init_points=2)"
   ]
  },
  {
   "cell_type": "markdown",
   "metadata": {
    "colab_type": "text",
    "id": "rdkxhhST-KZS"
   },
   "source": [
    " **<font color='teal'> Print the best result by using the '.max' function.</font>**"
   ]
  },
  {
   "cell_type": "code",
   "execution_count": 23,
   "metadata": {
    "ExecuteTime": {
     "end_time": "2019-04-22T15:49:01.513767Z",
     "start_time": "2019-04-22T15:49:01.509392Z"
    },
    "colab": {},
    "colab_type": "code",
    "id": "oc8z6mfy-KZS"
   },
   "outputs": [
    {
     "data": {
      "text/plain": [
       "{'target': 0.744070331535712,\n",
       " 'params': {'lambda_l1': 0.038485268103408896,\n",
       "  'lambda_l2': 0.009863675269641953,\n",
       "  'max_depth': 46.808468897054766,\n",
       "  'min_child_samples': 9229.855294414772,\n",
       "  'min_data_in_leaf': 1963.8558778407744,\n",
       "  'num_leaves': 2904.3117288514045}}"
      ]
     },
     "execution_count": 23,
     "metadata": {},
     "output_type": "execute_result"
    }
   ],
   "source": [
    "lgbBO.max"
   ]
  },
  {
   "cell_type": "markdown",
   "metadata": {
    "ExecuteTime": {
     "end_time": "2019-04-22T15:50:29.049881Z",
     "start_time": "2019-04-22T15:50:29.045908Z"
    },
    "colab_type": "text",
    "id": "J5LAydKC-KZW"
   },
   "source": [
    "Review the process at each step by using the '.res[0]' function."
   ]
  },
  {
   "cell_type": "code",
   "execution_count": 24,
   "metadata": {
    "ExecuteTime": {
     "end_time": "2019-04-22T15:51:01.001688Z",
     "start_time": "2019-04-22T15:51:00.997484Z"
    },
    "colab": {},
    "colab_type": "code",
    "id": "X1ttZmrI-KZX"
   },
   "outputs": [
    {
     "data": {
      "text/plain": [
       "{'target': 0.7250119281544594,\n",
       " 'params': {'lambda_l1': 0.01277680861206444,\n",
       "  'lambda_l2': 0.038617920562996316,\n",
       "  'max_depth': 48.31335129382729,\n",
       "  'min_child_samples': 1846.1194562494745,\n",
       "  'min_data_in_leaf': 624.0686286488092,\n",
       "  'num_leaves': 3730.223904372833}}"
      ]
     },
     "execution_count": 24,
     "metadata": {},
     "output_type": "execute_result"
    }
   ],
   "source": [
    "lgbBO.res[0]"
   ]
  }
 ],
 "metadata": {
  "colab": {
   "name": "Bayesian_optimization_exercise.ipynb",
   "provenance": []
  },
  "deepnote_execution_queue": [],
  "kernelspec": {
   "display_name": "Python 3",
   "language": "python",
   "name": "python3"
  },
  "language_info": {
   "codemirror_mode": {
    "name": "ipython",
    "version": 3
   },
   "file_extension": ".py",
   "mimetype": "text/x-python",
   "name": "python",
   "nbconvert_exporter": "python",
   "pygments_lexer": "ipython3",
   "version": "3.8.3"
  },
  "varInspector": {
   "cols": {
    "lenName": 16,
    "lenType": 16,
    "lenVar": 40
   },
   "kernels_config": {
    "python": {
     "delete_cmd_postfix": "",
     "delete_cmd_prefix": "del ",
     "library": "var_list.py",
     "varRefreshCmd": "print(var_dic_list())"
    },
    "r": {
     "delete_cmd_postfix": ") ",
     "delete_cmd_prefix": "rm(",
     "library": "var_list.r",
     "varRefreshCmd": "cat(var_dic_list()) "
    }
   },
   "types_to_exclude": [
    "module",
    "function",
    "builtin_function_or_method",
    "instance",
    "_Feature"
   ],
   "window_display": false
  }
 },
 "nbformat": 4,
 "nbformat_minor": 1
}
